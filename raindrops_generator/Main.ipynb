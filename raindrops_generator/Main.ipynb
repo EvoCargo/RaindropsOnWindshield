{
 "cells": [
  {
   "cell_type": "code",
   "execution_count": 1,
   "metadata": {},
   "outputs": [],
   "source": [
    "from __future__ import absolute_import\n",
    "\n",
    "import os\n",
    "from raindrop.dropgenerator import generateDrops, generate_label, CheckCollision\n",
    "from raindrop.config import cfg\n",
    "\n",
    "from PIL import Image\n",
    "import numpy as np\n",
    "import cv2\n",
    "from raindrop.raindrop import Raindrop\n",
    "\n",
    "import random\n",
    "from random import randint\n",
    "import math"
   ]
  },
  {
   "cell_type": "code",
   "execution_count": 43,
   "metadata": {},
   "outputs": [
    {
     "name": "stdout",
     "output_type": "stream",
     "text": [
      "<PIL.Image.Image image mode=L size=1280x1024 at 0x7F978F006128>\n",
      "<PIL.Image.Image image mode=L size=1280x1024 at 0x7F9791573C50>\n",
      "<PIL.Image.Image image mode=L size=1280x1024 at 0x7F978F006128>\n",
      "<PIL.Image.Image image mode=L size=1280x1024 at 0x7F978F013E10>\n",
      "<PIL.Image.Image image mode=L size=1280x1024 at 0x7F978F006128>\n"
     ]
    }
   ],
   "source": [
    "\"\"\"\n",
    "An example of raindrops generation on a sequence of 5 images\n",
    "\"\"\"  \n",
    "width = 1280\n",
    "height = 1024\n",
    "image_folder_path = \"input/\"\n",
    "outputimg_folder_path = \"output/\"\n",
    "mask_folder_path = \"masks/\"\n",
    "\n",
    "a_main = os.listdir(image_folder_path)\n",
    "if '.DS_Store' in a_main:\n",
    "    a_main.remove('.DS_Store')\n",
    "    \n",
    "for folder_name in a_main:\n",
    "    \n",
    "    in_folder = image_folder_path + folder_name\n",
    "\n",
    "    out_folder = outputimg_folder_path + folder_name\n",
    "#   os.mkdir(out_folder)\n",
    "    mask_folder = mask_folder_path + folder_name\n",
    "#   os.mkdir(mask_folder)\n",
    "\n",
    "    List_of_Drops, label_map  = generate_label(height, width, cfg)\n",
    "\n",
    "    a = os.listdir(in_folder)\n",
    "    if '.DS_Store' in a:\n",
    "        a.remove('.DS_Store')\n",
    "\n",
    "    for file_name in a:\n",
    "        image_path = os.path.join(in_folder, file_name)\n",
    "        output_image, output_label, mask = generateDrops(image_path, cfg, List_of_Drops, label_map)\n",
    "        print(mask)\n",
    "\n",
    "        save_path = os.path.join(out_folder, file_name)\n",
    "        mask_path = os.path.join(mask_folder, file_name)\n",
    "\n",
    "        output_image.save(save_path)\n",
    "        mask.save(mask_path)"
   ]
  },
  {
   "cell_type": "code",
   "execution_count": null,
   "metadata": {},
   "outputs": [],
   "source": []
  },
  {
   "cell_type": "code",
   "execution_count": null,
   "metadata": {},
   "outputs": [],
   "source": []
  }
 ],
 "metadata": {
  "kernelspec": {
   "display_name": "Python 3",
   "language": "python",
   "name": "python3"
  },
  "language_info": {
   "codemirror_mode": {
    "name": "ipython",
    "version": 3
   },
   "file_extension": ".py",
   "mimetype": "text/x-python",
   "name": "python",
   "nbconvert_exporter": "python",
   "pygments_lexer": "ipython3",
   "version": "3.7.3"
  }
 },
 "nbformat": 4,
 "nbformat_minor": 2
}
