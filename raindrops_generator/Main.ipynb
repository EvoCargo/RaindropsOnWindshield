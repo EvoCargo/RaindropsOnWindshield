{
 "cells": [
  {
   "cell_type": "code",
   "execution_count": 1,
   "metadata": {},
   "outputs": [],
   "source": [
    "from __future__ import absolute_import\n",
    "\n",
    "import os\n",
    "from raindrop.dropgenerator import generateDrops, generate_label\n",
    "from raindrop.config import cfg"
   ]
  },
  {
   "cell_type": "code",
   "execution_count": 2,
   "metadata": {},
   "outputs": [],
   "source": [
    "\"\"\"\n",
    "An example of raindrops generation on a sequence of 5 images\n",
    "\"\"\"  \n",
    "width = 1280\n",
    "height = 1024\n",
    "image_folder_path = \"input/\"\n",
    "outputimg_folder_path = \"output/\"\n",
    "mask_folder_path = \"masks/\"\n",
    "\n",
    "a_main = os.listdir(image_folder_path)\n",
    "if '.DS_Store' in a_main:\n",
    "    a_main.remove('.DS_Store')\n",
    "    \n",
    "for folder_name in a_main:\n",
    "    \n",
    "    in_folder = image_folder_path + folder_name\n",
    "\n",
    "    out_folder = outputimg_folder_path + folder_name\n",
    "#   os.mkdir(out_folder)\n",
    "    mask_folder = mask_folder_path + folder_name\n",
    "#   os.mkdir(mask_folder)\n",
    "\n",
    "    List_of_Drops, label_map  = generate_label(height, width, cfg)\n",
    "\n",
    "    a = os.listdir(in_folder)\n",
    "    if '.DS_Store' in a:\n",
    "        a.remove('.DS_Store')\n",
    "\n",
    "    for file_name in a:\n",
    "        image_path = os.path.join(in_folder, file_name)\n",
    "        output_image, output_label, mask = generateDrops(image_path, cfg, List_of_Drops)\n",
    "\n",
    "        save_path = os.path.join(out_folder, file_name)\n",
    "        mask_path = os.path.join(mask_folder, file_name)\n",
    "\n",
    "        output_image.save(save_path)\n",
    "        mask.save(mask_path)"
   ]
  }
 ],
 "metadata": {
  "interpreter": {
   "hash": "64d04ba88539afb16218ae060bc7c4b5831b0d2aa93bc282eb375c5bf43b862d"
  },
  "kernelspec": {
   "display_name": "Python 3.9.12 ('dl')",
   "language": "python",
   "name": "python3"
  },
  "language_info": {
   "codemirror_mode": {
    "name": "ipython",
    "version": 3
   },
   "file_extension": ".py",
   "mimetype": "text/x-python",
   "name": "python",
   "nbconvert_exporter": "python",
   "pygments_lexer": "ipython3",
   "version": "3.9.12"
  }
 },
 "nbformat": 4,
 "nbformat_minor": 2
}
